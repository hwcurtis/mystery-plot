import pandas as pd

# Create a dictionary with structured data
data = {
    "Character": ["Steamboat Captain", "Hospital Worker", "Police Chief"],
    "Name": ["Abe", "Georgia", "Joe"],
    "Relationship": ["Friend", "Herself", "Brave"]
}

# Create a DataFrame from the dictionary
df = pd.DataFrame(data)

# Display the DataFrame
print(df)
