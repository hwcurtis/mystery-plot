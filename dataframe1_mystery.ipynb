{
 "cells": [
  {
   "cell_type": "code",
   "execution_count": 5,
   "id": "684b2f38",
   "metadata": {},
   "outputs": [
    {
     "name": "stdout",
     "output_type": "stream",
     "text": [
      "Most Suspicious Suspect:\n",
      "Name                    Bob\n",
      "Motive              Revenge\n",
      "Alibi              No alibi\n",
      "Suspicion_Level           9\n",
      "Name: 1, dtype: object\n",
      "Clues Matched to Suspects:\n",
      "                Clue     Found_At Points_To     Name    Motive  \\\n",
      "0       Bloody knife      Kitchen       Bob      Bob   Revenge   \n",
      "1          Footprint       Garden   Charlie  Charlie     Greed   \n",
      "2  Witness statement  Living room     Alice    Alice  Jealousy   \n",
      "3       CCTV footage       Garage     Diana    Diana  Cover-up   \n",
      "\n",
      "            Alibi  Suspicion_Level  \n",
      "0        No alibi                9  \n",
      "1      At a party                6  \n",
      "2  At the library                7  \n",
      "3         At home                8  \n"
     ]
    },
    {
     "data": {
      "image/png": "[encoded data removed]",
      "text/plain": [
       "<Figure size 640x480 with 1 Axes>"
      ]
     },
     "metadata": {},
     "output_type": "display_data"
    },
    {
     "name": "stdout",
     "output_type": "stream",
     "text": [
      "Shuffled Suspects:\n",
      "      Name    Motive           Alibi  Suspicion_Level\n",
      "0    Alice  Jealousy  At the library                7\n",
      "1      Bob   Revenge        No alibi                9\n",
      "2  Charlie     Greed      At a party                6\n",
      "3    Diana  Cover-up         At home                8\n"
     ]
    }
   ],
   "source": [
    "import pandas as pd\n",
    "\n",
    "# Suspects DataFrame\n",
    "suspects = pd.DataFrame({\n",
    "    'Name': ['Alice', 'Bob', 'Charlie', 'Diana'],\n",
    "    'Motive': ['Jealousy', 'Revenge', 'Greed', 'Cover-up'],\n",
    "    'Alibi': ['At the library', 'No alibi', 'At a party', 'At home'],\n",
    "    'Suspicion_Level': [7, 9, 6, 8]\n",
    "})\n",
    "\n",
    "# Clues DataFrame\n",
    "clues = pd.DataFrame({\n",
    "    'Clue': ['Bloody knife', 'Footprint', 'Witness statement', 'CCTV footage'],\n",
    "    'Found_At': ['Kitchen', 'Garden', 'Living room', 'Garage'],\n",
    "    'Points_To': ['Bob', 'Charlie', 'Alice', 'Diana']\n",
    "})\n",
    "\n",
    "# Timeline DataFrame\n",
    "timeline = pd.DataFrame({\n",
    "    'Time': ['8:00 PM', '8:15 PM', '8:30 PM', '8:45 PM'],\n",
    "    'Event': ['Victim seen alive', 'Scream heard', 'Lights went out', 'Body discovered']\n",
    "})\n",
    "\n",
    "most_suspicious = suspects.loc[suspects['Suspicion_Level'].idxmax()]\n",
    "print(\"Most Suspicious Suspect:\")\n",
    "print(most_suspicious)\n",
    "\n",
    "clue_match = clues.merge(suspects, left_on='Points_To', right_on='Name', how='inner')\n",
    "print(\"Clues Matched to Suspects:\")\n",
    "print(clue_match)\n",
    "\n",
    "import matplotlib.pyplot as plt\n",
    "\n",
    "plt.bar(suspects['Name'], suspects['Suspicion_Level'], color='red', edgecolor='black')\n",
    "plt.title('Suspicion Levels of Suspects')\n",
    "plt.xlabel('Suspects')\n",
    "plt.ylabel('Suspicion Level')\n",
    "plt.show()\n",
    "\n",
    "import random\n",
    "\n",
    "# Randomly shuffle suspects\n",
    "shuffled_suspects = suspects.sample(frac=1).reset_index(drop=True)\n",
    "print(\"Shuffled Suspects:\")\n",
    "print(shuffled_suspects)\n"
   ]
  }
 ],
 "metadata": {
  "kernelspec": {
   "display_name": "Python 3",
   "language": "python",
   "name": "python3"
  },
  "language_info": {
   "codemirror_mode": {
    "name": "ipython",
    "version": 3
   },
   "file_extension": ".py",
   "mimetype": "text/x-python",
   "name": "python",
   "nbconvert_exporter": "python",
   "pygments_lexer": "ipython3",
   "version": "3.13.2"
  }
 },
 "nbformat": 4,
 "nbformat_minor": 5
}
