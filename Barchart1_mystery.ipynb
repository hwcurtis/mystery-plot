{
 "cells": [
  {
   "cell_type": "code",
   "execution_count": 8,
   "id": "684b2f38",
   "metadata": {},
   "outputs": [
    {
     "name": "stdout",
     "output_type": "stream",
     "text": [
      "Most Suspicious Suspect:\n",
      "Clues DataFrame:\n",
      "                Clue        Found_At\n",
      "0       Bloody knife         Boatdoc\n",
      "1        Wet Clothes        New Boat\n",
      "2  Witness statement  Injured person\n",
      "Clues Matched to Suspects:\n",
      "Clues Matched to Suspects:\n"
     ]
    },
    {
     "data": {
      "image/png": "[encoded data removed]",
      "text/plain": [
       "<Figure size 640x480 with 1 Axes>"
      ]
     },
     "metadata": {},
     "output_type": "display_data"
    },
    {
     "name": "stdout",
     "output_type": "stream",
     "text": [
      "Shuffled Suspects:\n",
      "     Name         Motive         Alibi  Suspicion_Level\n",
      "0    Hank        Revenge  On the Scene                7\n",
      "1  Diesel  Felt betrayed      No alibi                9\n",
      "2   Butch       Cover-up    At a party                6\n"
     ]
    }
   ],
   "source": [
    "import pandas as pd\n",
    "\n",
    "# Suspects DataFrame\n",
    "suspects = pd.DataFrame({\n",
    "    'Name': ['Hank', 'Diesel', 'Butch'],\n",
    "    'Motive': ['Revenge', 'Felt betrayed', 'Cover-up'],\n",
    "    'Alibi': ['On the Scene', 'No alibi', 'At a party'],\n",
    "    'Suspicion_Level': [7, 9, 6]\n",
    "})\n",
    "\n",
    "# Clues DataFrame\n",
    "clues = pd.DataFrame({\n",
    "        'Clue': ['Bloody knife', 'Wet Clothes', 'Witness statement'],\n",
    "        'Found_At': ['Boatdoc', 'New Boat', 'Injured person']\n",
    "    })\n",
    "\n",
    "# Timeline DataFrame\n",
    "timeline = pd.DataFrame({\n",
    "    'Time': ['11:00 AM', '1:15 PM', '1:30 PM', '1:45 PM'],\n",
    "    'Event': ['Victim seen alive', 'Lights went out', 'Body discovered', 'Police arrived']\n",
    "})\n",
    "\n",
    "most_suspicious = suspects.loc[suspects['Suspicion_Level'].idxmax()]\n",
    "print(\"Most Suspicious Suspect:\")\n",
    "# Placeholder for matching clues to suspects (adjust logic as needed)\n",
    "print(\"Clues DataFrame:\")\n",
    "print(clues)\n",
    "print(\"Clues Matched to Suspects:\")\n",
    "# Placeholder for matching clues to suspects (adjust logic as needed)\n",
    "print(\"Clues Matched to Suspects:\")\n",
    "clue_match = \"Matching logic not implemented yet\"\n",
    "import matplotlib.pyplot as plt\n",
    "\n",
    "plt.bar(suspects['Name'], suspects['Suspicion_Level'], color='red', edgecolor='black')\n",
    "plt.title('Suspicion Levels of Suspects')\n",
    "plt.xlabel('Suspects')\n",
    "plt.ylabel('Suspicion Level')\n",
    "plt.show()\n",
    "\n",
    "# Import random module\n",
    "import random\n",
    "import random\n",
    "\n",
    "# Randomly shuffle suspects\n",
    "shuffled_suspects = suspects.sample(frac=1).reset_index(drop=True)\n",
    "print(\"Shuffled Suspects:\")\n",
    "print(shuffled_suspects)\n"
   ]
  }
 ],
 "metadata": {
  "kernelspec": {
   "display_name": "Python 3",
   "language": "python",
   "name": "python3"
  },
  "language_info": {
   "codemirror_mode": {
    "name": "ipython",
    "version": 3
   },
   "file_extension": ".py",
   "mimetype": "text/x-python",
   "name": "python",
   "nbconvert_exporter": "python",
   "pygments_lexer": "ipython3",
   "version": "3.13.2"
  }
 },
 "nbformat": 4,
 "nbformat_minor": 5
}
